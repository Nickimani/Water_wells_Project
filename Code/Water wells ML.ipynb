{
 "cells": [
  {
   "cell_type": "markdown",
   "metadata": {},
   "source": [
    "# Tanzania Water Wells Project\n",
    "\n",
    "*This is the notebook where I do __Modelling__.*\n",
    "\n",
    "# 1. Problem Undersanding\n",
    "\n",
    "<img src=\"../Images/water_wells.png\">"
   ]
  },
  {
   "cell_type": "markdown",
   "metadata": {},
   "source": [
    "## Business Problem\n",
    "\n",
    "Tanzania, as a developing country, struggles with providing clean water to its population of over 57,000,000. There are many water points already established in the country, some are functional, but some are in need of repair while others have failed altogether.\n",
    "\n",
    "The Government of Tanzania is interested in:\n",
    "\n",
    "\n",
    "> 1) Finding out the waterpoints in need of repairs and those that have completely failed.\n",
    "\n",
    "> 2) Identifying patterns in waterpoints that don't function as desired.\n",
    "\n",
    "This can be done by building a classifier that takes in the attributes of a waterpoint and determines whether it is functional, functional-needing-repairs or non-functional.\n",
    "\n",
    "By being able to build a good classifier, the government can be able to:\n",
    "\n",
    "> 1) Easily determine waterpoints that are in need of repairs and those that have completely ceased functioning.\n",
    "\n",
    "> 2) Identify patterns in non-functional waterpoints and guide against them when building wells in future.\n",
    "\n",
    "The effects of this classifier would greatly help in improving the living standards of the people of Tanzania by increasing the amount of clean and safe water accessible to the people."
   ]
  },
  {
   "cell_type": "markdown",
   "metadata": {},
   "source": [
    "## Data Summary\n",
    "\n",
    "The data that I am using is from [this site](https://www.drivendata.org/competitions/7/pump-it-up-data-mining-the-water-table/page/23/) and I have done some cleaning on it in the [EDA notebook](http://localhost:8888/notebooks/Code/Water_wells%20EDA.ipynb). It now has __57,345__ records from the original __59,400__ records. The data has been collected from the year 2002 October to 2013 December. \n",
    "\n",
    "Each record represents a __waterpoint__. \n",
    "\n",
    "\n",
    "The __features__ are:\n",
    "\n",
    "    1. amount_tsh - Total Static Head (amount water available to waterpoint)\n",
    "    2. gps_height - Altitude of the well\n",
    "    3. longitude - GPS coordinate\n",
    "    4. latitude - GPS coordinate\n",
    "    5. population - Population around the well\n",
    "    6. extraction_class - The kind of extraction the waterpoint uses\n",
    "    7. management_group - How the waterpoint is managed\n",
    "    8. payment_type - What the water costs\n",
    "    9. quality_group - The quality of the water\n",
    "    10. quantity_group - The quantity of water\n",
    "    11. source_class - The source of the water\n",
    "    12. type_group - The kind of waterpoint\n",
    "    13. public_meeting - True/False\n",
    "    14. permit - If the waterpoint is permitted\n",
    "    15. region_code - Geographic location (coded)\n",
    "    16. age - The age of a well at the time it was recorded\n",
    "\n",
    "\n",
    "The __target feature__ is `status_group` and it consists of the following categories:\n",
    "\n",
    "    1. functional - The well is operational and there are no repairs needed\n",
    "    2. functional needs repair - The well is operational, but needs repairs\n",
    "    3. non functional - The well is not operational"
   ]
  },
  {
   "cell_type": "markdown",
   "metadata": {},
   "source": [
    "# 2. Loading the Dataset"
   ]
  }
 ],
 "metadata": {
  "kernelspec": {
   "display_name": "Python 3",
   "language": "python",
   "name": "python3"
  },
  "language_info": {
   "codemirror_mode": {
    "name": "ipython",
    "version": 3
   },
   "file_extension": ".py",
   "mimetype": "text/x-python",
   "name": "python",
   "nbconvert_exporter": "python",
   "pygments_lexer": "ipython3",
   "version": "3.8.5"
  }
 },
 "nbformat": 4,
 "nbformat_minor": 4
}
